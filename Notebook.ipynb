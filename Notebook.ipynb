{
 "cells": [
  {
   "cell_type": "markdown",
   "metadata": {},
   "source": [
    "Trip Type Walmart"
   ]
  },
  {
   "cell_type": "markdown",
   "metadata": {},
   "source": [
    "Describe the feature space\n",
    "1. What's the size of it\n",
    "2. Type of each variable, numeric vs categorical\n",
    "3. Univariate plot (Histogram, density plot etc.)"
   ]
  },
  {
   "cell_type": "markdown",
   "metadata": {},
   "source": [
    "Plot Y vs. X"
   ]
  },
  {
   "cell_type": "code",
   "execution_count": 1,
   "metadata": {
    "collapsed": false
   },
   "outputs": [
    {
     "name": "stdout",
     "output_type": "stream",
     "text": [
      "Populating the interactive namespace from numpy and matplotlib\n"
     ]
    }
   ],
   "source": [
    "import pandas as pd\n",
    "%pylab inline"
   ]
  },
  {
   "cell_type": "code",
   "execution_count": 19,
   "metadata": {
    "collapsed": true
   },
   "outputs": [],
   "source": [
    "train = pd.read_csv('train.csv', dtype={'Upc':object})"
   ]
  },
  {
   "cell_type": "code",
   "execution_count": 20,
   "metadata": {
    "collapsed": false
   },
   "outputs": [
    {
     "data": {
      "text/html": [
       "<div>\n",
       "<table border=\"1\" class=\"dataframe\">\n",
       "  <thead>\n",
       "    <tr style=\"text-align: right;\">\n",
       "      <th></th>\n",
       "      <th>TripType</th>\n",
       "      <th>VisitNumber</th>\n",
       "      <th>Weekday</th>\n",
       "      <th>Upc</th>\n",
       "      <th>ScanCount</th>\n",
       "      <th>DepartmentDescription</th>\n",
       "      <th>FinelineNumber</th>\n",
       "    </tr>\n",
       "  </thead>\n",
       "  <tbody>\n",
       "    <tr>\n",
       "      <th>0</th>\n",
       "      <td>999</td>\n",
       "      <td>5</td>\n",
       "      <td>Friday</td>\n",
       "      <td>68113152929</td>\n",
       "      <td>-1</td>\n",
       "      <td>FINANCIAL SERVICES</td>\n",
       "      <td>1000</td>\n",
       "    </tr>\n",
       "    <tr>\n",
       "      <th>1</th>\n",
       "      <td>30</td>\n",
       "      <td>7</td>\n",
       "      <td>Friday</td>\n",
       "      <td>60538815980</td>\n",
       "      <td>1</td>\n",
       "      <td>SHOES</td>\n",
       "      <td>8931</td>\n",
       "    </tr>\n",
       "    <tr>\n",
       "      <th>2</th>\n",
       "      <td>30</td>\n",
       "      <td>7</td>\n",
       "      <td>Friday</td>\n",
       "      <td>7410811099</td>\n",
       "      <td>1</td>\n",
       "      <td>PERSONAL CARE</td>\n",
       "      <td>4504</td>\n",
       "    </tr>\n",
       "    <tr>\n",
       "      <th>3</th>\n",
       "      <td>26</td>\n",
       "      <td>8</td>\n",
       "      <td>Friday</td>\n",
       "      <td>2238403510</td>\n",
       "      <td>2</td>\n",
       "      <td>PAINT AND ACCESSORIES</td>\n",
       "      <td>3565</td>\n",
       "    </tr>\n",
       "    <tr>\n",
       "      <th>4</th>\n",
       "      <td>26</td>\n",
       "      <td>8</td>\n",
       "      <td>Friday</td>\n",
       "      <td>2006613744</td>\n",
       "      <td>2</td>\n",
       "      <td>PAINT AND ACCESSORIES</td>\n",
       "      <td>1017</td>\n",
       "    </tr>\n",
       "  </tbody>\n",
       "</table>\n",
       "</div>"
      ],
      "text/plain": [
       "   TripType  VisitNumber Weekday          Upc  ScanCount  \\\n",
       "0       999            5  Friday  68113152929         -1   \n",
       "1        30            7  Friday  60538815980          1   \n",
       "2        30            7  Friday   7410811099          1   \n",
       "3        26            8  Friday   2238403510          2   \n",
       "4        26            8  Friday   2006613744          2   \n",
       "\n",
       "   DepartmentDescription  FinelineNumber  \n",
       "0     FINANCIAL SERVICES            1000  \n",
       "1                  SHOES            8931  \n",
       "2          PERSONAL CARE            4504  \n",
       "3  PAINT AND ACCESSORIES            3565  \n",
       "4  PAINT AND ACCESSORIES            1017  "
      ]
     },
     "execution_count": 20,
     "metadata": {},
     "output_type": "execute_result"
    }
   ],
   "source": [
    "train.head()"
   ]
  },
  {
   "cell_type": "code",
   "execution_count": 21,
   "metadata": {
    "collapsed": false
   },
   "outputs": [
    {
     "data": {
      "text/html": [
       "<div>\n",
       "<table border=\"1\" class=\"dataframe\">\n",
       "  <thead>\n",
       "    <tr style=\"text-align: right;\">\n",
       "      <th></th>\n",
       "      <th>TripType</th>\n",
       "      <th>VisitNumber</th>\n",
       "      <th>Weekday</th>\n",
       "      <th>Upc</th>\n",
       "      <th>ScanCount</th>\n",
       "      <th>DepartmentDescription</th>\n",
       "      <th>FinelineNumber</th>\n",
       "    </tr>\n",
       "  </thead>\n",
       "  <tbody>\n",
       "    <tr>\n",
       "      <th>647049</th>\n",
       "      <td>39</td>\n",
       "      <td>191346</td>\n",
       "      <td>Sunday</td>\n",
       "      <td>32390001778</td>\n",
       "      <td>1</td>\n",
       "      <td>PHARMACY OTC</td>\n",
       "      <td>1118</td>\n",
       "    </tr>\n",
       "    <tr>\n",
       "      <th>647050</th>\n",
       "      <td>39</td>\n",
       "      <td>191346</td>\n",
       "      <td>Sunday</td>\n",
       "      <td>7874205336</td>\n",
       "      <td>1</td>\n",
       "      <td>FROZEN FOODS</td>\n",
       "      <td>1752</td>\n",
       "    </tr>\n",
       "    <tr>\n",
       "      <th>647051</th>\n",
       "      <td>39</td>\n",
       "      <td>191346</td>\n",
       "      <td>Sunday</td>\n",
       "      <td>4072</td>\n",
       "      <td>1</td>\n",
       "      <td>PRODUCE</td>\n",
       "      <td>4170</td>\n",
       "    </tr>\n",
       "    <tr>\n",
       "      <th>647052</th>\n",
       "      <td>8</td>\n",
       "      <td>191347</td>\n",
       "      <td>Sunday</td>\n",
       "      <td>4190007664</td>\n",
       "      <td>1</td>\n",
       "      <td>DAIRY</td>\n",
       "      <td>1512</td>\n",
       "    </tr>\n",
       "    <tr>\n",
       "      <th>647053</th>\n",
       "      <td>8</td>\n",
       "      <td>191347</td>\n",
       "      <td>Sunday</td>\n",
       "      <td>3800059655</td>\n",
       "      <td>1</td>\n",
       "      <td>GROCERY DRY GOODS</td>\n",
       "      <td>3600</td>\n",
       "    </tr>\n",
       "  </tbody>\n",
       "</table>\n",
       "</div>"
      ],
      "text/plain": [
       "        TripType  VisitNumber Weekday          Upc  ScanCount  \\\n",
       "647049        39       191346  Sunday  32390001778          1   \n",
       "647050        39       191346  Sunday   7874205336          1   \n",
       "647051        39       191346  Sunday         4072          1   \n",
       "647052         8       191347  Sunday   4190007664          1   \n",
       "647053         8       191347  Sunday   3800059655          1   \n",
       "\n",
       "       DepartmentDescription  FinelineNumber  \n",
       "647049          PHARMACY OTC            1118  \n",
       "647050          FROZEN FOODS            1752  \n",
       "647051               PRODUCE            4170  \n",
       "647052                 DAIRY            1512  \n",
       "647053     GROCERY DRY GOODS            3600  "
      ]
     },
     "execution_count": 21,
     "metadata": {},
     "output_type": "execute_result"
    }
   ],
   "source": [
    "train.tail()"
   ]
  },
  {
   "cell_type": "code",
   "execution_count": 22,
   "metadata": {
    "collapsed": false
   },
   "outputs": [
    {
     "name": "stdout",
     "output_type": "stream",
     "text": [
      "(647054, 7)\n"
     ]
    }
   ],
   "source": [
    "print train.shape"
   ]
  },
  {
   "cell_type": "code",
   "execution_count": 23,
   "metadata": {
    "collapsed": false
   },
   "outputs": [
    {
     "data": {
      "text/plain": [
       "TripType                   int64\n",
       "VisitNumber                int64\n",
       "Weekday                   object\n",
       "Upc                       object\n",
       "ScanCount                  int64\n",
       "DepartmentDescription     object\n",
       "FinelineNumber           float64\n",
       "dtype: object"
      ]
     },
     "execution_count": 23,
     "metadata": {},
     "output_type": "execute_result"
    }
   ],
   "source": [
    "train.dtypes"
   ]
  },
  {
   "cell_type": "code",
   "execution_count": 6,
   "metadata": {
    "collapsed": false
   },
   "outputs": [
    {
     "data": {
      "text/plain": [
       "Sunday       133975\n",
       "Saturday     122096\n",
       "Friday        96247\n",
       "Monday        83130\n",
       "Tuesday       72529\n",
       "Wednesday     71115\n",
       "Thursday      67962\n",
       "Name: Weekday, dtype: int64"
      ]
     },
     "execution_count": 6,
     "metadata": {},
     "output_type": "execute_result"
    }
   ],
   "source": [
    "train['Weekday'].value_counts()"
   ]
  },
  {
   "cell_type": "code",
   "execution_count": 7,
   "metadata": {
    "collapsed": true
   },
   "outputs": [],
   "source": [
    "train_by_visitnum = train.groupby(by='VisitNumber')"
   ]
  },
  {
   "cell_type": "code",
   "execution_count": 8,
   "metadata": {
    "collapsed": false
   },
   "outputs": [
    {
     "data": {
      "text/plain": [
       "count    95674.000000\n",
       "mean         6.763112\n",
       "std          8.531894\n",
       "min          1.000000\n",
       "25%          2.000000\n",
       "50%          4.000000\n",
       "75%          8.000000\n",
       "95%         24.000000\n",
       "max        209.000000\n",
       "dtype: float64"
      ]
     },
     "execution_count": 8,
     "metadata": {},
     "output_type": "execute_result"
    }
   ],
   "source": [
    "train_by_visitnum_size = train_by_visitnum.size()\n",
    "train_by_visitnum_size.describe([.25, .5, .75, .95])"
   ]
  },
  {
   "cell_type": "code",
   "execution_count": null,
   "metadata": {
    "collapsed": false
   },
   "outputs": [],
   "source": [
    "train.VisitNumber.value_counts().plot('bar')"
   ]
  },
  {
   "cell_type": "code",
   "execution_count": null,
   "metadata": {
    "collapsed": false
   },
   "outputs": [],
   "source": [
    "big_visits = train_by_visitnum_size[train_by_visitnum_size > 24.0]\n",
    "print(big_visits.head())"
   ]
  },
  {
   "cell_type": "code",
   "execution_count": null,
   "metadata": {
    "collapsed": false
   },
   "outputs": [],
   "source": [
    "train[train.ScanCount!=1]['ScanCount'].hist(bins=100)"
   ]
  },
  {
   "cell_type": "code",
   "execution_count": null,
   "metadata": {
    "collapsed": false,
    "scrolled": true
   },
   "outputs": [],
   "source": [
    "print train['ScanCount'].value_counts()"
   ]
  },
  {
   "cell_type": "markdown",
   "metadata": {},
   "source": [
    "- TripType Count"
   ]
  },
  {
   "cell_type": "code",
   "execution_count": null,
   "metadata": {
    "collapsed": false
   },
   "outputs": [],
   "source": [
    "trainByVisit = train.drop_duplicates('VisitNumber')[['TripType','VisitNumber','Weekday']]\n",
    "trainByVisit['TripType'].value_counts().plot(kind='bar')"
   ]
  },
  {
   "cell_type": "code",
   "execution_count": null,
   "metadata": {
    "collapsed": false
   },
   "outputs": [],
   "source": [
    "train['TripType'].value_counts().plot(kind='bar')"
   ]
  },
  {
   "cell_type": "code",
   "execution_count": null,
   "metadata": {
    "collapsed": false
   },
   "outputs": [],
   "source": [
    "print train.isnull().any()"
   ]
  },
  {
   "cell_type": "code",
   "execution_count": null,
   "metadata": {
    "collapsed": false
   },
   "outputs": [],
   "source": [
    "print train[pd.isnull(train['Upc'])].head()"
   ]
  },
  {
   "cell_type": "code",
   "execution_count": null,
   "metadata": {
    "collapsed": true
   },
   "outputs": [],
   "source": [
    "trainWithNa = train[pd.isnull(train['Upc'])]"
   ]
  },
  {
   "cell_type": "markdown",
   "metadata": {},
   "source": [
    "- TripType Count when upc is missing"
   ]
  },
  {
   "cell_type": "code",
   "execution_count": null,
   "metadata": {
    "collapsed": false
   },
   "outputs": [],
   "source": [
    "trainWithNa['TripType'].value_counts().plot(kind='bar')"
   ]
  },
  {
   "cell_type": "code",
   "execution_count": null,
   "metadata": {
    "collapsed": false
   },
   "outputs": [],
   "source": [
    "triptypeNaGrouped = trainWithNa.drop_duplicates('VisitNumber')\n",
    "triptypeNaGrouped['TripType'].value_counts().plot(kind='bar')"
   ]
  },
  {
   "cell_type": "code",
   "execution_count": null,
   "metadata": {
    "collapsed": false
   },
   "outputs": [],
   "source": [
    "print trainWithNa[trainWithNa.ScanCount<0]['TripType'].value_counts()"
   ]
  },
  {
   "cell_type": "code",
   "execution_count": null,
   "metadata": {
    "collapsed": false
   },
   "outputs": [],
   "source": [
    "print trainWithNa[trainWithNa.TripType==999]['ScanCount'].value_counts()"
   ]
  },
  {
   "cell_type": "code",
   "execution_count": null,
   "metadata": {
    "collapsed": false
   },
   "outputs": [],
   "source": [
    "returnPharmacy = trainWithNa[trainWithNa.ScanCount<0][pd.notnull(trainWithNa.DepartmentDescription)]\n",
    "print returnPharmacy['TripType'].value_counts()"
   ]
  },
  {
   "cell_type": "code",
   "execution_count": 5,
   "metadata": {
    "collapsed": false
   },
   "outputs": [
    {
     "data": {
      "text/plain": [
       "GROCERY DRY GOODS              70402\n",
       "DSD GROCERY                    68332\n",
       "PRODUCE                        51115\n",
       "DAIRY                          43820\n",
       "PERSONAL CARE                  41969\n",
       "IMPULSE MERCHANDISE            28712\n",
       "HOUSEHOLD CHEMICALS/SUPP       24880\n",
       "PHARMACY OTC                   23306\n",
       "FROZEN FOODS                   21101\n",
       "HOUSEHOLD PAPER GOODS          16274\n",
       "COMM BREAD                     15244\n",
       "BEAUTY                         14865\n",
       "MENS WEAR                      12250\n",
       "FINANCIAL SERVICES             10723\n",
       "INFANT CONSUMABLE HARDLINES    10646\n",
       "SERVICE DELI                   10127\n",
       "CANDY, TOBACCO, COOKIES         9808\n",
       "PETS AND SUPPLIES               9761\n",
       "MEAT - FRESH & FROZEN           9477\n",
       "PRE PACKED DELI                 9052\n",
       "LADIESWEAR                      8721\n",
       "CELEBRATION                     8698\n",
       "COOK AND DINE                   7600\n",
       "BAKERY                          7168\n",
       "OFFICE SUPPLIES                 6578\n",
       "HOME MANAGEMENT                 6349\n",
       "TOYS                            6107\n",
       "SHOES                           6099\n",
       "INFANT APPAREL                  6051\n",
       "AUTOMOTIVE                      5414\n",
       "                               ...  \n",
       "LIQUOR,WINE,BEER                3861\n",
       "ELECTRONICS                     3190\n",
       "PHARMACY RX                     2922\n",
       "HORTICULTURE AND ACCESS         2893\n",
       "JEWELRY AND SUNGLASSES          2526\n",
       "SLEEPWEAR/FOUNDATIONS           2376\n",
       "BEDDING                         2307\n",
       "BRAS & SHAPEWEAR                2036\n",
       "MEDIA AND GAMING                1993\n",
       "SEAFOOD                         1923\n",
       "WIRELESS                        1898\n",
       "PAINT AND ACCESSORIES           1720\n",
       "ACCESSORIES                     1318\n",
       "BOOKS AND MAGAZINES              992\n",
       "SWIMWEAR/OUTERWEAR               860\n",
       "LADIES SOCKS                     775\n",
       "PLAYERS AND ELECTRONICS          686\n",
       "PLUS AND MATERNITY               591\n",
       "OPTICAL - FRAMES                 579\n",
       "FURNITURE                        477\n",
       "SHEER HOSIERY                    434\n",
       "1-HR PHOTO                       394\n",
       "MENSWEAR                         338\n",
       "CAMERAS AND SUPPLIES             221\n",
       "OPTICAL - LENSES                  85\n",
       "LARGE HOUSEHOLD GOODS             77\n",
       "CONCEPT STORES                    35\n",
       "SEASONAL                          29\n",
       "OTHER DEPARTMENTS                 29\n",
       "HEALTH AND BEAUTY AIDS             2\n",
       "Name: DepartmentDescription, dtype: int64"
      ]
     },
     "execution_count": 5,
     "metadata": {},
     "output_type": "execute_result"
    }
   ],
   "source": [
    "train.DepartmentDescription.value_counts()"
   ]
  },
  {
   "cell_type": "code",
   "execution_count": 11,
   "metadata": {
    "collapsed": false
   },
   "outputs": [],
   "source": [
    "train_produce = train[train.DepartmentDescription == 'BOOKS AND MAGAZINES']"
   ]
  },
  {
   "cell_type": "code",
   "execution_count": 13,
   "metadata": {
    "collapsed": false
   },
   "outputs": [
    {
     "data": {
      "text/html": [
       "<div>\n",
       "<table border=\"1\" class=\"dataframe\">\n",
       "  <thead>\n",
       "    <tr style=\"text-align: right;\">\n",
       "      <th></th>\n",
       "      <th>TripType</th>\n",
       "      <th>VisitNumber</th>\n",
       "      <th>Weekday</th>\n",
       "      <th>Upc</th>\n",
       "      <th>ScanCount</th>\n",
       "      <th>DepartmentDescription</th>\n",
       "      <th>FinelineNumber</th>\n",
       "    </tr>\n",
       "  </thead>\n",
       "  <tbody>\n",
       "    <tr>\n",
       "      <th>145</th>\n",
       "      <td>20</td>\n",
       "      <td>69</td>\n",
       "      <td>Friday</td>\n",
       "      <td>7.480851e+09</td>\n",
       "      <td>1</td>\n",
       "      <td>BOOKS AND MAGAZINES</td>\n",
       "      <td>19</td>\n",
       "    </tr>\n",
       "    <tr>\n",
       "      <th>147</th>\n",
       "      <td>20</td>\n",
       "      <td>69</td>\n",
       "      <td>Friday</td>\n",
       "      <td>7.148601e+09</td>\n",
       "      <td>1</td>\n",
       "      <td>BOOKS AND MAGAZINES</td>\n",
       "      <td>324</td>\n",
       "    </tr>\n",
       "    <tr>\n",
       "      <th>372</th>\n",
       "      <td>21</td>\n",
       "      <td>185</td>\n",
       "      <td>Friday</td>\n",
       "      <td>7.165804e+09</td>\n",
       "      <td>1</td>\n",
       "      <td>BOOKS AND MAGAZINES</td>\n",
       "      <td>365</td>\n",
       "    </tr>\n",
       "    <tr>\n",
       "      <th>423</th>\n",
       "      <td>42</td>\n",
       "      <td>214</td>\n",
       "      <td>Friday</td>\n",
       "      <td>9.781405e+11</td>\n",
       "      <td>1</td>\n",
       "      <td>BOOKS AND MAGAZINES</td>\n",
       "      <td>2120</td>\n",
       "    </tr>\n",
       "    <tr>\n",
       "      <th>1381</th>\n",
       "      <td>40</td>\n",
       "      <td>592</td>\n",
       "      <td>Friday</td>\n",
       "      <td>7.098937e+09</td>\n",
       "      <td>1</td>\n",
       "      <td>BOOKS AND MAGAZINES</td>\n",
       "      <td>320</td>\n",
       "    </tr>\n",
       "    <tr>\n",
       "      <th>5417</th>\n",
       "      <td>9</td>\n",
       "      <td>2015</td>\n",
       "      <td>Friday</td>\n",
       "      <td>9.256710e+09</td>\n",
       "      <td>1</td>\n",
       "      <td>BOOKS AND MAGAZINES</td>\n",
       "      <td>8203</td>\n",
       "    </tr>\n",
       "    <tr>\n",
       "      <th>8969</th>\n",
       "      <td>19</td>\n",
       "      <td>3120</td>\n",
       "      <td>Friday</td>\n",
       "      <td>9.780830e+11</td>\n",
       "      <td>2</td>\n",
       "      <td>BOOKS AND MAGAZINES</td>\n",
       "      <td>2120</td>\n",
       "    </tr>\n",
       "    <tr>\n",
       "      <th>9193</th>\n",
       "      <td>39</td>\n",
       "      <td>3179</td>\n",
       "      <td>Friday</td>\n",
       "      <td>7.482065e+09</td>\n",
       "      <td>1</td>\n",
       "      <td>BOOKS AND MAGAZINES</td>\n",
       "      <td>8204</td>\n",
       "    </tr>\n",
       "    <tr>\n",
       "      <th>9195</th>\n",
       "      <td>39</td>\n",
       "      <td>3179</td>\n",
       "      <td>Friday</td>\n",
       "      <td>7.482065e+09</td>\n",
       "      <td>1</td>\n",
       "      <td>BOOKS AND MAGAZINES</td>\n",
       "      <td>8203</td>\n",
       "    </tr>\n",
       "    <tr>\n",
       "      <th>13539</th>\n",
       "      <td>40</td>\n",
       "      <td>4470</td>\n",
       "      <td>Friday</td>\n",
       "      <td>7.482065e+09</td>\n",
       "      <td>1</td>\n",
       "      <td>BOOKS AND MAGAZINES</td>\n",
       "      <td>8204</td>\n",
       "    </tr>\n",
       "    <tr>\n",
       "      <th>13620</th>\n",
       "      <td>39</td>\n",
       "      <td>4493</td>\n",
       "      <td>Friday</td>\n",
       "      <td>9.780393e+11</td>\n",
       "      <td>1</td>\n",
       "      <td>BOOKS AND MAGAZINES</td>\n",
       "      <td>1970</td>\n",
       "    </tr>\n",
       "    <tr>\n",
       "      <th>15185</th>\n",
       "      <td>36</td>\n",
       "      <td>4958</td>\n",
       "      <td>Friday</td>\n",
       "      <td>7.244010e+09</td>\n",
       "      <td>1</td>\n",
       "      <td>BOOKS AND MAGAZINES</td>\n",
       "      <td>8204</td>\n",
       "    </tr>\n",
       "    <tr>\n",
       "      <th>16836</th>\n",
       "      <td>33</td>\n",
       "      <td>5446</td>\n",
       "      <td>Friday</td>\n",
       "      <td>7.482065e+09</td>\n",
       "      <td>1</td>\n",
       "      <td>BOOKS AND MAGAZINES</td>\n",
       "      <td>8203</td>\n",
       "    </tr>\n",
       "    <tr>\n",
       "      <th>18183</th>\n",
       "      <td>42</td>\n",
       "      <td>5798</td>\n",
       "      <td>Friday</td>\n",
       "      <td>8.826630e+10</td>\n",
       "      <td>1</td>\n",
       "      <td>BOOKS AND MAGAZINES</td>\n",
       "      <td>264</td>\n",
       "    </tr>\n",
       "    <tr>\n",
       "      <th>18244</th>\n",
       "      <td>39</td>\n",
       "      <td>5815</td>\n",
       "      <td>Friday</td>\n",
       "      <td>7.482065e+09</td>\n",
       "      <td>1</td>\n",
       "      <td>BOOKS AND MAGAZINES</td>\n",
       "      <td>8203</td>\n",
       "    </tr>\n",
       "    <tr>\n",
       "      <th>18513</th>\n",
       "      <td>44</td>\n",
       "      <td>5869</td>\n",
       "      <td>Friday</td>\n",
       "      <td>7.482009e+09</td>\n",
       "      <td>1</td>\n",
       "      <td>BOOKS AND MAGAZINES</td>\n",
       "      <td>20</td>\n",
       "    </tr>\n",
       "    <tr>\n",
       "      <th>20641</th>\n",
       "      <td>43</td>\n",
       "      <td>6548</td>\n",
       "      <td>Saturday</td>\n",
       "      <td>7.244010e+09</td>\n",
       "      <td>1</td>\n",
       "      <td>BOOKS AND MAGAZINES</td>\n",
       "      <td>8203</td>\n",
       "    </tr>\n",
       "    <tr>\n",
       "      <th>21104</th>\n",
       "      <td>24</td>\n",
       "      <td>6721</td>\n",
       "      <td>Saturday</td>\n",
       "      <td>9.256710e+09</td>\n",
       "      <td>1</td>\n",
       "      <td>BOOKS AND MAGAZINES</td>\n",
       "      <td>8204</td>\n",
       "    </tr>\n",
       "    <tr>\n",
       "      <th>21105</th>\n",
       "      <td>24</td>\n",
       "      <td>6721</td>\n",
       "      <td>Saturday</td>\n",
       "      <td>7.165802e+09</td>\n",
       "      <td>1</td>\n",
       "      <td>BOOKS AND MAGAZINES</td>\n",
       "      <td>8204</td>\n",
       "    </tr>\n",
       "    <tr>\n",
       "      <th>21107</th>\n",
       "      <td>24</td>\n",
       "      <td>6721</td>\n",
       "      <td>Saturday</td>\n",
       "      <td>7.447001e+09</td>\n",
       "      <td>1</td>\n",
       "      <td>BOOKS AND MAGAZINES</td>\n",
       "      <td>365</td>\n",
       "    </tr>\n",
       "    <tr>\n",
       "      <th>21545</th>\n",
       "      <td>9</td>\n",
       "      <td>6832</td>\n",
       "      <td>Saturday</td>\n",
       "      <td>7.220110e+10</td>\n",
       "      <td>1</td>\n",
       "      <td>BOOKS AND MAGAZINES</td>\n",
       "      <td>777</td>\n",
       "    </tr>\n",
       "    <tr>\n",
       "      <th>22052</th>\n",
       "      <td>40</td>\n",
       "      <td>7009</td>\n",
       "      <td>Saturday</td>\n",
       "      <td>7.482065e+09</td>\n",
       "      <td>1</td>\n",
       "      <td>BOOKS AND MAGAZINES</td>\n",
       "      <td>8203</td>\n",
       "    </tr>\n",
       "    <tr>\n",
       "      <th>22220</th>\n",
       "      <td>21</td>\n",
       "      <td>7063</td>\n",
       "      <td>Saturday</td>\n",
       "      <td>7.482065e+09</td>\n",
       "      <td>1</td>\n",
       "      <td>BOOKS AND MAGAZINES</td>\n",
       "      <td>8203</td>\n",
       "    </tr>\n",
       "    <tr>\n",
       "      <th>22223</th>\n",
       "      <td>21</td>\n",
       "      <td>7063</td>\n",
       "      <td>Saturday</td>\n",
       "      <td>7.482065e+09</td>\n",
       "      <td>1</td>\n",
       "      <td>BOOKS AND MAGAZINES</td>\n",
       "      <td>8204</td>\n",
       "    </tr>\n",
       "    <tr>\n",
       "      <th>22384</th>\n",
       "      <td>39</td>\n",
       "      <td>7096</td>\n",
       "      <td>Saturday</td>\n",
       "      <td>7.220110e+10</td>\n",
       "      <td>1</td>\n",
       "      <td>BOOKS AND MAGAZINES</td>\n",
       "      <td>777</td>\n",
       "    </tr>\n",
       "    <tr>\n",
       "      <th>22390</th>\n",
       "      <td>33</td>\n",
       "      <td>7098</td>\n",
       "      <td>Saturday</td>\n",
       "      <td>7.482065e+09</td>\n",
       "      <td>1</td>\n",
       "      <td>BOOKS AND MAGAZINES</td>\n",
       "      <td>8203</td>\n",
       "    </tr>\n",
       "    <tr>\n",
       "      <th>22400</th>\n",
       "      <td>33</td>\n",
       "      <td>7098</td>\n",
       "      <td>Saturday</td>\n",
       "      <td>7.482065e+09</td>\n",
       "      <td>1</td>\n",
       "      <td>BOOKS AND MAGAZINES</td>\n",
       "      <td>8204</td>\n",
       "    </tr>\n",
       "    <tr>\n",
       "      <th>23077</th>\n",
       "      <td>43</td>\n",
       "      <td>7290</td>\n",
       "      <td>Saturday</td>\n",
       "      <td>7.482065e+09</td>\n",
       "      <td>1</td>\n",
       "      <td>BOOKS AND MAGAZINES</td>\n",
       "      <td>8203</td>\n",
       "    </tr>\n",
       "    <tr>\n",
       "      <th>23187</th>\n",
       "      <td>9</td>\n",
       "      <td>7313</td>\n",
       "      <td>Saturday</td>\n",
       "      <td>7.482065e+09</td>\n",
       "      <td>1</td>\n",
       "      <td>BOOKS AND MAGAZINES</td>\n",
       "      <td>8203</td>\n",
       "    </tr>\n",
       "    <tr>\n",
       "      <th>25112</th>\n",
       "      <td>9</td>\n",
       "      <td>7860</td>\n",
       "      <td>Saturday</td>\n",
       "      <td>7.482065e+09</td>\n",
       "      <td>1</td>\n",
       "      <td>BOOKS AND MAGAZINES</td>\n",
       "      <td>8203</td>\n",
       "    </tr>\n",
       "    <tr>\n",
       "      <th>25915</th>\n",
       "      <td>39</td>\n",
       "      <td>8090</td>\n",
       "      <td>Saturday</td>\n",
       "      <td>7.220110e+10</td>\n",
       "      <td>1</td>\n",
       "      <td>BOOKS AND MAGAZINES</td>\n",
       "      <td>777</td>\n",
       "    </tr>\n",
       "    <tr>\n",
       "      <th>26239</th>\n",
       "      <td>44</td>\n",
       "      <td>8182</td>\n",
       "      <td>Saturday</td>\n",
       "      <td>7.244010e+09</td>\n",
       "      <td>1</td>\n",
       "      <td>BOOKS AND MAGAZINES</td>\n",
       "      <td>8203</td>\n",
       "    </tr>\n",
       "    <tr>\n",
       "      <th>26291</th>\n",
       "      <td>42</td>\n",
       "      <td>8206</td>\n",
       "      <td>Saturday</td>\n",
       "      <td>7.220110e+10</td>\n",
       "      <td>1</td>\n",
       "      <td>BOOKS AND MAGAZINES</td>\n",
       "      <td>777</td>\n",
       "    </tr>\n",
       "    <tr>\n",
       "      <th>26299</th>\n",
       "      <td>42</td>\n",
       "      <td>8206</td>\n",
       "      <td>Saturday</td>\n",
       "      <td>7.482065e+09</td>\n",
       "      <td>1</td>\n",
       "      <td>BOOKS AND MAGAZINES</td>\n",
       "      <td>8203</td>\n",
       "    </tr>\n",
       "    <tr>\n",
       "      <th>26868</th>\n",
       "      <td>42</td>\n",
       "      <td>8320</td>\n",
       "      <td>Saturday</td>\n",
       "      <td>7.485109e+09</td>\n",
       "      <td>1</td>\n",
       "      <td>BOOKS AND MAGAZINES</td>\n",
       "      <td>8203</td>\n",
       "    </tr>\n",
       "    <tr>\n",
       "      <th>26874</th>\n",
       "      <td>42</td>\n",
       "      <td>8320</td>\n",
       "      <td>Saturday</td>\n",
       "      <td>7.485109e+09</td>\n",
       "      <td>1</td>\n",
       "      <td>BOOKS AND MAGAZINES</td>\n",
       "      <td>8204</td>\n",
       "    </tr>\n",
       "    <tr>\n",
       "      <th>26992</th>\n",
       "      <td>9</td>\n",
       "      <td>8351</td>\n",
       "      <td>Saturday</td>\n",
       "      <td>7.220110e+10</td>\n",
       "      <td>1</td>\n",
       "      <td>BOOKS AND MAGAZINES</td>\n",
       "      <td>777</td>\n",
       "    </tr>\n",
       "    <tr>\n",
       "      <th>27682</th>\n",
       "      <td>8</td>\n",
       "      <td>8558</td>\n",
       "      <td>Saturday</td>\n",
       "      <td>7.220110e+10</td>\n",
       "      <td>1</td>\n",
       "      <td>BOOKS AND MAGAZINES</td>\n",
       "      <td>777</td>\n",
       "    </tr>\n",
       "    <tr>\n",
       "      <th>27689</th>\n",
       "      <td>40</td>\n",
       "      <td>8562</td>\n",
       "      <td>Saturday</td>\n",
       "      <td>7.482065e+09</td>\n",
       "      <td>1</td>\n",
       "      <td>BOOKS AND MAGAZINES</td>\n",
       "      <td>8204</td>\n",
       "    </tr>\n",
       "    <tr>\n",
       "      <th>27885</th>\n",
       "      <td>9</td>\n",
       "      <td>8631</td>\n",
       "      <td>Saturday</td>\n",
       "      <td>7.220110e+10</td>\n",
       "      <td>1</td>\n",
       "      <td>BOOKS AND MAGAZINES</td>\n",
       "      <td>777</td>\n",
       "    </tr>\n",
       "    <tr>\n",
       "      <th>28255</th>\n",
       "      <td>41</td>\n",
       "      <td>8754</td>\n",
       "      <td>Saturday</td>\n",
       "      <td>7.220110e+10</td>\n",
       "      <td>1</td>\n",
       "      <td>BOOKS AND MAGAZINES</td>\n",
       "      <td>777</td>\n",
       "    </tr>\n",
       "    <tr>\n",
       "      <th>28472</th>\n",
       "      <td>44</td>\n",
       "      <td>8804</td>\n",
       "      <td>Saturday</td>\n",
       "      <td>7.252745e+10</td>\n",
       "      <td>1</td>\n",
       "      <td>BOOKS AND MAGAZINES</td>\n",
       "      <td>8203</td>\n",
       "    </tr>\n",
       "    <tr>\n",
       "      <th>28477</th>\n",
       "      <td>44</td>\n",
       "      <td>8804</td>\n",
       "      <td>Saturday</td>\n",
       "      <td>9.281510e+08</td>\n",
       "      <td>1</td>\n",
       "      <td>BOOKS AND MAGAZINES</td>\n",
       "      <td>8203</td>\n",
       "    </tr>\n",
       "    <tr>\n",
       "      <th>28478</th>\n",
       "      <td>44</td>\n",
       "      <td>8804</td>\n",
       "      <td>Saturday</td>\n",
       "      <td>7.148651e+09</td>\n",
       "      <td>1</td>\n",
       "      <td>BOOKS AND MAGAZINES</td>\n",
       "      <td>8203</td>\n",
       "    </tr>\n",
       "    <tr>\n",
       "      <th>28806</th>\n",
       "      <td>39</td>\n",
       "      <td>8903</td>\n",
       "      <td>Saturday</td>\n",
       "      <td>7.220110e+10</td>\n",
       "      <td>1</td>\n",
       "      <td>BOOKS AND MAGAZINES</td>\n",
       "      <td>777</td>\n",
       "    </tr>\n",
       "    <tr>\n",
       "      <th>29299</th>\n",
       "      <td>37</td>\n",
       "      <td>9033</td>\n",
       "      <td>Saturday</td>\n",
       "      <td>7.482065e+09</td>\n",
       "      <td>1</td>\n",
       "      <td>BOOKS AND MAGAZINES</td>\n",
       "      <td>8203</td>\n",
       "    </tr>\n",
       "    <tr>\n",
       "      <th>30748</th>\n",
       "      <td>44</td>\n",
       "      <td>9399</td>\n",
       "      <td>Saturday</td>\n",
       "      <td>8.826630e+10</td>\n",
       "      <td>1</td>\n",
       "      <td>BOOKS AND MAGAZINES</td>\n",
       "      <td>264</td>\n",
       "    </tr>\n",
       "    <tr>\n",
       "      <th>30826</th>\n",
       "      <td>38</td>\n",
       "      <td>9425</td>\n",
       "      <td>Saturday</td>\n",
       "      <td>7.220110e+10</td>\n",
       "      <td>1</td>\n",
       "      <td>BOOKS AND MAGAZINES</td>\n",
       "      <td>777</td>\n",
       "    </tr>\n",
       "    <tr>\n",
       "      <th>31462</th>\n",
       "      <td>7</td>\n",
       "      <td>9602</td>\n",
       "      <td>Saturday</td>\n",
       "      <td>7.220110e+10</td>\n",
       "      <td>1</td>\n",
       "      <td>BOOKS AND MAGAZINES</td>\n",
       "      <td>777</td>\n",
       "    </tr>\n",
       "    <tr>\n",
       "      <th>31735</th>\n",
       "      <td>9</td>\n",
       "      <td>9671</td>\n",
       "      <td>Saturday</td>\n",
       "      <td>6.282600e+09</td>\n",
       "      <td>1</td>\n",
       "      <td>BOOKS AND MAGAZINES</td>\n",
       "      <td>27</td>\n",
       "    </tr>\n",
       "  </tbody>\n",
       "</table>\n",
       "</div>"
      ],
      "text/plain": [
       "       TripType  VisitNumber   Weekday           Upc  ScanCount  \\\n",
       "145          20           69    Friday  7.480851e+09          1   \n",
       "147          20           69    Friday  7.148601e+09          1   \n",
       "372          21          185    Friday  7.165804e+09          1   \n",
       "423          42          214    Friday  9.781405e+11          1   \n",
       "1381         40          592    Friday  7.098937e+09          1   \n",
       "5417          9         2015    Friday  9.256710e+09          1   \n",
       "8969         19         3120    Friday  9.780830e+11          2   \n",
       "9193         39         3179    Friday  7.482065e+09          1   \n",
       "9195         39         3179    Friday  7.482065e+09          1   \n",
       "13539        40         4470    Friday  7.482065e+09          1   \n",
       "13620        39         4493    Friday  9.780393e+11          1   \n",
       "15185        36         4958    Friday  7.244010e+09          1   \n",
       "16836        33         5446    Friday  7.482065e+09          1   \n",
       "18183        42         5798    Friday  8.826630e+10          1   \n",
       "18244        39         5815    Friday  7.482065e+09          1   \n",
       "18513        44         5869    Friday  7.482009e+09          1   \n",
       "20641        43         6548  Saturday  7.244010e+09          1   \n",
       "21104        24         6721  Saturday  9.256710e+09          1   \n",
       "21105        24         6721  Saturday  7.165802e+09          1   \n",
       "21107        24         6721  Saturday  7.447001e+09          1   \n",
       "21545         9         6832  Saturday  7.220110e+10          1   \n",
       "22052        40         7009  Saturday  7.482065e+09          1   \n",
       "22220        21         7063  Saturday  7.482065e+09          1   \n",
       "22223        21         7063  Saturday  7.482065e+09          1   \n",
       "22384        39         7096  Saturday  7.220110e+10          1   \n",
       "22390        33         7098  Saturday  7.482065e+09          1   \n",
       "22400        33         7098  Saturday  7.482065e+09          1   \n",
       "23077        43         7290  Saturday  7.482065e+09          1   \n",
       "23187         9         7313  Saturday  7.482065e+09          1   \n",
       "25112         9         7860  Saturday  7.482065e+09          1   \n",
       "25915        39         8090  Saturday  7.220110e+10          1   \n",
       "26239        44         8182  Saturday  7.244010e+09          1   \n",
       "26291        42         8206  Saturday  7.220110e+10          1   \n",
       "26299        42         8206  Saturday  7.482065e+09          1   \n",
       "26868        42         8320  Saturday  7.485109e+09          1   \n",
       "26874        42         8320  Saturday  7.485109e+09          1   \n",
       "26992         9         8351  Saturday  7.220110e+10          1   \n",
       "27682         8         8558  Saturday  7.220110e+10          1   \n",
       "27689        40         8562  Saturday  7.482065e+09          1   \n",
       "27885         9         8631  Saturday  7.220110e+10          1   \n",
       "28255        41         8754  Saturday  7.220110e+10          1   \n",
       "28472        44         8804  Saturday  7.252745e+10          1   \n",
       "28477        44         8804  Saturday  9.281510e+08          1   \n",
       "28478        44         8804  Saturday  7.148651e+09          1   \n",
       "28806        39         8903  Saturday  7.220110e+10          1   \n",
       "29299        37         9033  Saturday  7.482065e+09          1   \n",
       "30748        44         9399  Saturday  8.826630e+10          1   \n",
       "30826        38         9425  Saturday  7.220110e+10          1   \n",
       "31462         7         9602  Saturday  7.220110e+10          1   \n",
       "31735         9         9671  Saturday  6.282600e+09          1   \n",
       "\n",
       "      DepartmentDescription  FinelineNumber  \n",
       "145     BOOKS AND MAGAZINES              19  \n",
       "147     BOOKS AND MAGAZINES             324  \n",
       "372     BOOKS AND MAGAZINES             365  \n",
       "423     BOOKS AND MAGAZINES            2120  \n",
       "1381    BOOKS AND MAGAZINES             320  \n",
       "5417    BOOKS AND MAGAZINES            8203  \n",
       "8969    BOOKS AND MAGAZINES            2120  \n",
       "9193    BOOKS AND MAGAZINES            8204  \n",
       "9195    BOOKS AND MAGAZINES            8203  \n",
       "13539   BOOKS AND MAGAZINES            8204  \n",
       "13620   BOOKS AND MAGAZINES            1970  \n",
       "15185   BOOKS AND MAGAZINES            8204  \n",
       "16836   BOOKS AND MAGAZINES            8203  \n",
       "18183   BOOKS AND MAGAZINES             264  \n",
       "18244   BOOKS AND MAGAZINES            8203  \n",
       "18513   BOOKS AND MAGAZINES              20  \n",
       "20641   BOOKS AND MAGAZINES            8203  \n",
       "21104   BOOKS AND MAGAZINES            8204  \n",
       "21105   BOOKS AND MAGAZINES            8204  \n",
       "21107   BOOKS AND MAGAZINES             365  \n",
       "21545   BOOKS AND MAGAZINES             777  \n",
       "22052   BOOKS AND MAGAZINES            8203  \n",
       "22220   BOOKS AND MAGAZINES            8203  \n",
       "22223   BOOKS AND MAGAZINES            8204  \n",
       "22384   BOOKS AND MAGAZINES             777  \n",
       "22390   BOOKS AND MAGAZINES            8203  \n",
       "22400   BOOKS AND MAGAZINES            8204  \n",
       "23077   BOOKS AND MAGAZINES            8203  \n",
       "23187   BOOKS AND MAGAZINES            8203  \n",
       "25112   BOOKS AND MAGAZINES            8203  \n",
       "25915   BOOKS AND MAGAZINES             777  \n",
       "26239   BOOKS AND MAGAZINES            8203  \n",
       "26291   BOOKS AND MAGAZINES             777  \n",
       "26299   BOOKS AND MAGAZINES            8203  \n",
       "26868   BOOKS AND MAGAZINES            8203  \n",
       "26874   BOOKS AND MAGAZINES            8204  \n",
       "26992   BOOKS AND MAGAZINES             777  \n",
       "27682   BOOKS AND MAGAZINES             777  \n",
       "27689   BOOKS AND MAGAZINES            8204  \n",
       "27885   BOOKS AND MAGAZINES             777  \n",
       "28255   BOOKS AND MAGAZINES             777  \n",
       "28472   BOOKS AND MAGAZINES            8203  \n",
       "28477   BOOKS AND MAGAZINES            8203  \n",
       "28478   BOOKS AND MAGAZINES            8203  \n",
       "28806   BOOKS AND MAGAZINES             777  \n",
       "29299   BOOKS AND MAGAZINES            8203  \n",
       "30748   BOOKS AND MAGAZINES             264  \n",
       "30826   BOOKS AND MAGAZINES             777  \n",
       "31462   BOOKS AND MAGAZINES             777  \n",
       "31735   BOOKS AND MAGAZINES              27  "
      ]
     },
     "execution_count": 13,
     "metadata": {},
     "output_type": "execute_result"
    }
   ],
   "source": [
    "train_produce.head(50)"
   ]
  },
  {
   "cell_type": "code",
   "execution_count": 24,
   "metadata": {
    "collapsed": true
   },
   "outputs": [],
   "source": [
    "upcs = train.Upc"
   ]
  },
  {
   "cell_type": "code",
   "execution_count": 25,
   "metadata": {
    "collapsed": false
   },
   "outputs": [
    {
     "data": {
      "text/plain": [
       "pandas.core.series.Series"
      ]
     },
     "execution_count": 25,
     "metadata": {},
     "output_type": "execute_result"
    }
   ],
   "source": [
    "type(upcs\n",
    "    )"
   ]
  },
  {
   "cell_type": "code",
   "execution_count": 17,
   "metadata": {
    "collapsed": false
   },
   "outputs": [],
   "source": [
    "s='some'"
   ]
  },
  {
   "cell_type": "code",
   "execution_count": 27,
   "metadata": {
    "collapsed": false
   },
   "outputs": [
    {
     "data": {
      "text/plain": [
       "'so'"
      ]
     },
     "execution_count": 27,
     "metadata": {},
     "output_type": "execute_result"
    }
   ],
   "source": [
    "s[0:2]"
   ]
  },
  {
   "cell_type": "code",
   "execution_count": null,
   "metadata": {
    "collapsed": true
   },
   "outputs": [],
   "source": [
    "s."
   ]
  },
  {
   "cell_type": "code",
   "execution_count": 29,
   "metadata": {
    "collapsed": false
   },
   "outputs": [
    {
     "data": {
      "text/plain": [
       "1    60538815980\n",
       "2     7410811099\n",
       "3     2238403510\n",
       "4     2006613744\n",
       "Name: Upc, dtype: object"
      ]
     },
     "execution_count": 29,
     "metadata": {},
     "output_type": "execute_result"
    }
   ],
   "source": [
    "upcs[1:5]"
   ]
  },
  {
   "cell_type": "code",
   "execution_count": 33,
   "metadata": {
    "collapsed": false
   },
   "outputs": [],
   "source": [
    "upc5 = upcs.str.slice(0,5)"
   ]
  },
  {
   "cell_type": "code",
   "execution_count": 39,
   "metadata": {
    "collapsed": false
   },
   "outputs": [],
   "source": [
    "tropicana = train[upc5=='48500']"
   ]
  },
  {
   "cell_type": "code",
   "execution_count": 43,
   "metadata": {
    "collapsed": false
   },
   "outputs": [
    {
     "data": {
      "text/plain": [
       "40     329\n",
       "38     180\n",
       "39     154\n",
       "37      76\n",
       "8       45\n",
       "7       25\n",
       "44      17\n",
       "32      12\n",
       "25      12\n",
       "33      11\n",
       "24      10\n",
       "42      10\n",
       "35      10\n",
       "999      9\n",
       "36       9\n",
       "5        8\n",
       "41       7\n",
       "15       7\n",
       "26       5\n",
       "34       4\n",
       "43       4\n",
       "9        4\n",
       "6        3\n",
       "20       3\n",
       "27       2\n",
       "22       2\n",
       "19       2\n",
       "18       2\n",
       "29       1\n",
       "30       1\n",
       "31       1\n",
       "4        1\n",
       "Name: TripType, dtype: int64"
      ]
     },
     "execution_count": 43,
     "metadata": {},
     "output_type": "execute_result"
    }
   ],
   "source": [
    "tropicana.TripType.value_counts()"
   ]
  },
  {
   "cell_type": "code",
   "execution_count": null,
   "metadata": {
    "collapsed": true
   },
   "outputs": [],
   "source": []
  }
 ],
 "metadata": {
  "kernelspec": {
   "display_name": "Python 2",
   "language": "python",
   "name": "python2"
  },
  "language_info": {
   "codemirror_mode": {
    "name": "ipython",
    "version": 2
   },
   "file_extension": ".py",
   "mimetype": "text/x-python",
   "name": "python",
   "nbconvert_exporter": "python",
   "pygments_lexer": "ipython2",
   "version": "2.7.10"
  }
 },
 "nbformat": 4,
 "nbformat_minor": 0
}
