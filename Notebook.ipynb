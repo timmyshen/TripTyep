{
 "cells": [
  {
   "cell_type": "markdown",
   "metadata": {},
   "source": [
    "Trip Type Walmart"
   ]
  },
  {
   "cell_type": "markdown",
   "metadata": {},
   "source": [
    "Describe the feature space\n",
    "1. What's the size of it\n",
    "2. Type of each variable, numeric vs categorical\n",
    "3. Univariate plot (Histogram, density plot etc.)"
   ]
  },
  {
   "cell_type": "markdown",
   "metadata": {},
   "source": [
    "Plot Y vs. X"
   ]
  },
  {
   "cell_type": "code",
   "execution_count": 3,
   "metadata": {
    "collapsed": false
   },
   "outputs": [
    {
     "name": "stdout",
     "output_type": "stream",
     "text": [
      "Populating the interactive namespace from numpy and matplotlib\n"
     ]
    }
   ],
   "source": [
    "import pandas as pd\n",
    "%pylab inline"
   ]
  },
  {
   "cell_type": "code",
   "execution_count": 4,
   "metadata": {
    "collapsed": true
   },
   "outputs": [],
   "source": [
    "train = pd.read_csv('train.csv')"
   ]
  },
  {
   "cell_type": "code",
   "execution_count": 10,
   "metadata": {
    "collapsed": false
   },
   "outputs": [
    {
     "name": "stdout",
     "output_type": "stream",
     "text": [
      "   TripType  VisitNumber Weekday          Upc  ScanCount  \\\n",
      "0       999            5  Friday  68113152929         -1   \n",
      "1        30            7  Friday  60538815980          1   \n",
      "2        30            7  Friday   7410811099          1   \n",
      "3        26            8  Friday   2238403510          2   \n",
      "4        26            8  Friday   2006613744          2   \n",
      "\n",
      "   DepartmentDescription  FinelineNumber  \n",
      "0     FINANCIAL SERVICES            1000  \n",
      "1                  SHOES            8931  \n",
      "2          PERSONAL CARE            4504  \n",
      "3  PAINT AND ACCESSORIES            3565  \n",
      "4  PAINT AND ACCESSORIES            1017  \n",
      "        TripType  VisitNumber Weekday          Upc  ScanCount  \\\n",
      "647049        39       191346  Sunday  32390001778          1   \n",
      "647050        39       191346  Sunday   7874205336          1   \n",
      "647051        39       191346  Sunday         4072          1   \n",
      "647052         8       191347  Sunday   4190007664          1   \n",
      "647053         8       191347  Sunday   3800059655          1   \n",
      "\n",
      "       DepartmentDescription  FinelineNumber  \n",
      "647049          PHARMACY OTC            1118  \n",
      "647050          FROZEN FOODS            1752  \n",
      "647051               PRODUCE            4170  \n",
      "647052                 DAIRY            1512  \n",
      "647053     GROCERY DRY GOODS            3600  \n"
     ]
    }
   ],
   "source": [
    "print train.head()\n",
    "print train.tail()"
   ]
  },
  {
   "cell_type": "code",
   "execution_count": 8,
   "metadata": {
    "collapsed": false
   },
   "outputs": [
    {
     "name": "stdout",
     "output_type": "stream",
     "text": [
      "(647054, 7)\n"
     ]
    }
   ],
   "source": [
    "print train.shape"
   ]
  },
  {
   "cell_type": "code",
   "execution_count": 9,
   "metadata": {
    "collapsed": false
   },
   "outputs": [
    {
     "name": "stdout",
     "output_type": "stream",
     "text": [
      "['Friday' 'Saturday' 'Sunday' 'Monday' 'Tuesday' 'Wednesday' 'Thursday']\n"
     ]
    }
   ],
   "source": [
    "print train['Weekday'].unique()"
   ]
  },
  {
   "cell_type": "code",
   "execution_count": 14,
   "metadata": {
    "collapsed": false
   },
   "outputs": [
    {
     "data": {
      "text/plain": [
       "Sunday       133975\n",
       "Saturday     122096\n",
       "Friday        96247\n",
       "Monday        83130\n",
       "Tuesday       72529\n",
       "Wednesday     71115\n",
       "Thursday      67962\n",
       "dtype: int64"
      ]
     },
     "execution_count": 14,
     "metadata": {},
     "output_type": "execute_result"
    }
   ],
   "source": [
    "train['Weekday'].value_counts()"
   ]
  },
  {
   "cell_type": "code",
   "execution_count": 23,
   "metadata": {
    "collapsed": false
   },
   "outputs": [
    {
     "data": {
      "text/plain": [
       "<matplotlib.axes._subplots.AxesSubplot at 0x10b0d2a50>"
      ]
     },
     "execution_count": 23,
     "metadata": {},
     "output_type": "execute_result"
    },
    {
     "data": {
      "image/png": "[encoded data removed]",
      "text/plain": [
       "<matplotlib.figure.Figure at 0x107f09610>"
      ]
     },
     "metadata": {},
     "output_type": "display_data"
    }
   ],
   "source": [
    "train[train.ScanCount!=1]['ScanCount'].hist(bins=100)"
   ]
  },
  {
   "cell_type": "code",
   "execution_count": 22,
   "metadata": {
    "collapsed": false
   },
   "outputs": [
    {
     "name": "stdout",
     "output_type": "stream",
     "text": [
      " 1     561489\n",
      " 2      53002\n",
      "-1      14394\n",
      " 3       9445\n",
      " 4       4536\n",
      " 5       1380\n",
      " 6        866\n",
      "-2        814\n",
      " 8        246\n",
      " 7        228\n",
      "-3        143\n",
      " 10       130\n",
      " 9         88\n",
      "-4         76\n",
      " 12        60\n",
      " 11        45\n",
      "-5         16\n",
      " 14        15\n",
      " 13        13\n",
      " 15        12\n",
      "-6         10\n",
      " 20         7\n",
      " 16         6\n",
      " 18         4\n",
      " 24         4\n",
      " 19         4\n",
      " 25         3\n",
      " 17         3\n",
      " 23         3\n",
      " 22         2\n",
      "-9          2\n",
      " 30         1\n",
      " 46         1\n",
      " 51         1\n",
      " 71         1\n",
      "-12         1\n",
      "-10         1\n",
      "-7          1\n",
      " 31         1\n",
      "dtype: int64\n"
     ]
    }
   ],
   "source": [
    "print train['ScanCount'].value_counts()"
   ]
  },
  {
   "cell_type": "code",
   "execution_count": 29,
   "metadata": {
    "collapsed": false
   },
   "outputs": [
    {
     "name": "stdout",
     "output_type": "stream",
     "text": [
      "TripType                 False\n",
      "VisitNumber              False\n",
      "Weekday                  False\n",
      "Upc                       True\n",
      "ScanCount                False\n",
      "DepartmentDescription     True\n",
      "FinelineNumber            True\n",
      "dtype: bool\n"
     ]
    }
   ],
   "source": [
    "print train.isnull().any()"
   ]
  },
  {
   "cell_type": "code",
   "execution_count": 33,
   "metadata": {
    "collapsed": false
   },
   "outputs": [
    {
     "name": "stdout",
     "output_type": "stream",
     "text": [
      "      TripType  VisitNumber Weekday  Upc  ScanCount DepartmentDescription  \\\n",
      "25          26            8  Friday  NaN          1                   NaN   \n",
      "548         27          259  Friday  NaN          3                   NaN   \n",
      "549         27          259  Friday  NaN          1                   NaN   \n",
      "959        999          409  Friday  NaN         -1                   NaN   \n",
      "1116        39          479  Friday  NaN          1                   NaN   \n",
      "\n",
      "      FinelineNumber  \n",
      "25               NaN  \n",
      "548              NaN  \n",
      "549              NaN  \n",
      "959              NaN  \n",
      "1116             NaN  \n"
     ]
    }
   ],
   "source": [
    "print train[pd.isnull(train['Upc'])].head()"
   ]
  },
  {
   "cell_type": "code",
   "execution_count": null,
   "metadata": {
    "collapsed": true
   },
   "outputs": [],
   "source": []
  }
 ],
 "metadata": {
  "kernelspec": {
   "display_name": "Python 2",
   "language": "python",
   "name": "python2"
  },
  "language_info": {
   "codemirror_mode": {
    "name": "ipython",
    "version": 2
   },
   "file_extension": ".py",
   "mimetype": "text/x-python",
   "name": "python",
   "nbconvert_exporter": "python",
   "pygments_lexer": "ipython2",
   "version": "2.7.10"
  }
 },
 "nbformat": 4,
 "nbformat_minor": 0
}
