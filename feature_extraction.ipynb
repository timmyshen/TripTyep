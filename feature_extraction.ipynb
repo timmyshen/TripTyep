{
 "cells": [
  {
   "cell_type": "code",
   "execution_count": 1,
   "metadata": {
    "collapsed": false
   },
   "outputs": [
    {
     "name": "stdout",
     "output_type": "stream",
     "text": [
      "Populating the interactive namespace from numpy and matplotlib\n"
     ]
    }
   ],
   "source": [
    "%pylab inline\n",
    "import pandas as pd"
   ]
  },
  {
   "cell_type": "code",
   "execution_count": 47,
   "metadata": {
    "collapsed": true
   },
   "outputs": [],
   "source": [
    "train = pd.read_csv('./train.csv', dtype={'Upc':object, 'FinelineNumber':object})"
   ]
  },
  {
   "cell_type": "code",
   "execution_count": 48,
   "metadata": {
    "collapsed": false
   },
   "outputs": [
    {
     "data": {
      "text/plain": [
       "TripType                  int64\n",
       "VisitNumber               int64\n",
       "Weekday                  object\n",
       "Upc                      object\n",
       "ScanCount                 int64\n",
       "DepartmentDescription    object\n",
       "FinelineNumber           object\n",
       "dtype: object"
      ]
     },
     "execution_count": 48,
     "metadata": {},
     "output_type": "execute_result"
    }
   ],
   "source": [
    "train.dtypes"
   ]
  },
  {
   "cell_type": "code",
   "execution_count": 37,
   "metadata": {
    "collapsed": false
   },
   "outputs": [
    {
     "data": {
      "text/plain": [
       "0    68113152929\n",
       "1    60538815980\n",
       "2     7410811099\n",
       "3     2238403510\n",
       "4     2006613744\n",
       "Name: Upc, dtype: object"
      ]
     },
     "execution_count": 37,
     "metadata": {},
     "output_type": "execute_result"
    }
   ],
   "source": [
    "train.Upc.head()"
   ]
  },
  {
   "cell_type": "code",
   "execution_count": 8,
   "metadata": {
    "collapsed": false
   },
   "outputs": [],
   "source": [
    "train_upc_null = train[pd.isnull(train.Upc)]"
   ]
  },
  {
   "cell_type": "code",
   "execution_count": 49,
   "metadata": {
    "collapsed": true
   },
   "outputs": [],
   "source": [
    "train['len_upc'] = train.Upc.str.len()\n",
    "train['init_upc'] = train.Upc.str.slice(0, 1)\n",
    "train['len_fineline'] = train.FinelineNumber.str.len()"
   ]
  },
  {
   "cell_type": "code",
   "execution_count": 50,
   "metadata": {
    "collapsed": false
   },
   "outputs": [
    {
     "data": {
      "text/html": [
       "<div>\n",
       "<table border=\"1\" class=\"dataframe\">\n",
       "  <thead>\n",
       "    <tr style=\"text-align: right;\">\n",
       "      <th></th>\n",
       "      <th>TripType</th>\n",
       "      <th>VisitNumber</th>\n",
       "      <th>Weekday</th>\n",
       "      <th>Upc</th>\n",
       "      <th>ScanCount</th>\n",
       "      <th>DepartmentDescription</th>\n",
       "      <th>FinelineNumber</th>\n",
       "      <th>len_upc</th>\n",
       "      <th>init_upc</th>\n",
       "      <th>len_fineline</th>\n",
       "    </tr>\n",
       "  </thead>\n",
       "  <tbody>\n",
       "    <tr>\n",
       "      <th>0</th>\n",
       "      <td>999</td>\n",
       "      <td>5</td>\n",
       "      <td>Friday</td>\n",
       "      <td>68113152929</td>\n",
       "      <td>-1</td>\n",
       "      <td>FINANCIAL SERVICES</td>\n",
       "      <td>1000</td>\n",
       "      <td>11</td>\n",
       "      <td>6</td>\n",
       "      <td>4</td>\n",
       "    </tr>\n",
       "    <tr>\n",
       "      <th>1</th>\n",
       "      <td>30</td>\n",
       "      <td>7</td>\n",
       "      <td>Friday</td>\n",
       "      <td>60538815980</td>\n",
       "      <td>1</td>\n",
       "      <td>SHOES</td>\n",
       "      <td>8931</td>\n",
       "      <td>11</td>\n",
       "      <td>6</td>\n",
       "      <td>4</td>\n",
       "    </tr>\n",
       "    <tr>\n",
       "      <th>2</th>\n",
       "      <td>30</td>\n",
       "      <td>7</td>\n",
       "      <td>Friday</td>\n",
       "      <td>7410811099</td>\n",
       "      <td>1</td>\n",
       "      <td>PERSONAL CARE</td>\n",
       "      <td>4504</td>\n",
       "      <td>10</td>\n",
       "      <td>7</td>\n",
       "      <td>4</td>\n",
       "    </tr>\n",
       "    <tr>\n",
       "      <th>3</th>\n",
       "      <td>26</td>\n",
       "      <td>8</td>\n",
       "      <td>Friday</td>\n",
       "      <td>2238403510</td>\n",
       "      <td>2</td>\n",
       "      <td>PAINT AND ACCESSORIES</td>\n",
       "      <td>3565</td>\n",
       "      <td>10</td>\n",
       "      <td>2</td>\n",
       "      <td>4</td>\n",
       "    </tr>\n",
       "    <tr>\n",
       "      <th>4</th>\n",
       "      <td>26</td>\n",
       "      <td>8</td>\n",
       "      <td>Friday</td>\n",
       "      <td>2006613744</td>\n",
       "      <td>2</td>\n",
       "      <td>PAINT AND ACCESSORIES</td>\n",
       "      <td>1017</td>\n",
       "      <td>10</td>\n",
       "      <td>2</td>\n",
       "      <td>4</td>\n",
       "    </tr>\n",
       "  </tbody>\n",
       "</table>\n",
       "</div>"
      ],
      "text/plain": [
       "   TripType  VisitNumber Weekday          Upc  ScanCount  \\\n",
       "0       999            5  Friday  68113152929         -1   \n",
       "1        30            7  Friday  60538815980          1   \n",
       "2        30            7  Friday   7410811099          1   \n",
       "3        26            8  Friday   2238403510          2   \n",
       "4        26            8  Friday   2006613744          2   \n",
       "\n",
       "   DepartmentDescription FinelineNumber  len_upc init_upc  len_fineline  \n",
       "0     FINANCIAL SERVICES           1000       11        6             4  \n",
       "1                  SHOES           8931       11        6             4  \n",
       "2          PERSONAL CARE           4504       10        7             4  \n",
       "3  PAINT AND ACCESSORIES           3565       10        2             4  \n",
       "4  PAINT AND ACCESSORIES           1017       10        2             4  "
      ]
     },
     "execution_count": 50,
     "metadata": {},
     "output_type": "execute_result"
    }
   ],
   "source": [
    "train.head()"
   ]
  },
  {
   "cell_type": "code",
   "execution_count": 51,
   "metadata": {
    "collapsed": false
   },
   "outputs": [
    {
     "data": {
      "text/plain": [
       "4    523240\n",
       "3     97846\n",
       "2     15864\n",
       "1      5975\n",
       "Name: len_fineline, dtype: int64"
      ]
     },
     "execution_count": 51,
     "metadata": {},
     "output_type": "execute_result"
    }
   ],
   "source": [
    "train.len_fineline.value_counts()"
   ]
  },
  {
   "cell_type": "code",
   "execution_count": 58,
   "metadata": {
    "collapsed": false
   },
   "outputs": [
    {
     "data": {
      "text/plain": [
       "0    3837\n",
       "6     574\n",
       "1     461\n",
       "5     412\n",
       "2     224\n",
       "4     187\n",
       "3      94\n",
       "8      72\n",
       "7      67\n",
       "9      47\n",
       "Name: FinelineNumber, dtype: int64"
      ]
     },
     "execution_count": 58,
     "metadata": {},
     "output_type": "execute_result"
    }
   ],
   "source": [
    "train[train.len_fineline == 1].FinelineNumber.value_counts()"
   ]
  },
  {
   "cell_type": "code",
   "execution_count": 11,
   "metadata": {
    "collapsed": false
   },
   "outputs": [
    {
     "data": {
      "text/plain": [
       "10    433341\n",
       "11    168418\n",
       "4      29745\n",
       "12      8463\n",
       "9       2166\n",
       "8        412\n",
       "5        372\n",
       "3          7\n",
       "7          1\n",
       "Name: len_upc, dtype: int64"
      ]
     },
     "execution_count": 11,
     "metadata": {},
     "output_type": "execute_result"
    }
   ],
   "source": [
    "train.len_upc.value_counts()"
   ]
  },
  {
   "cell_type": "code",
   "execution_count": 43,
   "metadata": {
    "collapsed": false,
    "scrolled": true
   },
   "outputs": [
    {
     "data": {
      "text/plain": [
       "PETS AND SUPPLIES    279\n",
       "PRODUCE               57\n",
       "DSD GROCERY           36\n",
       "Name: DepartmentDescription, dtype: int64"
      ]
     },
     "execution_count": 43,
     "metadata": {},
     "output_type": "execute_result"
    }
   ],
   "source": [
    "train[train.len_upc == 5].DepartmentDescription.value_counts()"
   ]
  },
  {
   "cell_type": "code",
   "execution_count": 46,
   "metadata": {
    "collapsed": false
   },
   "outputs": [
    {
     "data": {
      "text/plain": [
       "80253    70\n",
       "94011    51\n",
       "51376    36\n",
       "80119    21\n",
       "80255    20\n",
       "Name: Upc, dtype: int64"
      ]
     },
     "execution_count": 46,
     "metadata": {},
     "output_type": "execute_result"
    }
   ],
   "source": [
    "train[train.len_upc == 5].Upc.value_counts().head()"
   ]
  },
  {
   "cell_type": "code",
   "execution_count": 40,
   "metadata": {
    "collapsed": false
   },
   "outputs": [
    {
     "data": {
      "text/plain": [
       "775014200016    85\n",
       "896400099840    42\n",
       "890800513400    38\n",
       "692249579995    36\n",
       "489705373001    32\n",
       "Name: Upc, dtype: int64"
      ]
     },
     "execution_count": 40,
     "metadata": {},
     "output_type": "execute_result"
    }
   ],
   "source": [
    "train[train.len_upc == 12].Upc.value_counts().head()"
   ]
  },
  {
   "cell_type": "code",
   "execution_count": 32,
   "metadata": {
    "collapsed": false
   },
   "outputs": [],
   "source": [
    "train_pharm = train[(train.init_upc == '3') & (train.len_upc > 10)]"
   ]
  },
  {
   "cell_type": "code",
   "execution_count": 33,
   "metadata": {
    "collapsed": false
   },
   "outputs": [
    {
     "data": {
      "text/html": [
       "<div>\n",
       "<table border=\"1\" class=\"dataframe\">\n",
       "  <thead>\n",
       "    <tr style=\"text-align: right;\">\n",
       "      <th></th>\n",
       "      <th>TripType</th>\n",
       "      <th>VisitNumber</th>\n",
       "      <th>Weekday</th>\n",
       "      <th>Upc</th>\n",
       "      <th>ScanCount</th>\n",
       "      <th>DepartmentDescription</th>\n",
       "      <th>FinelineNumber</th>\n",
       "      <th>len_upc</th>\n",
       "      <th>init_upc</th>\n",
       "    </tr>\n",
       "  </thead>\n",
       "  <tbody>\n",
       "    <tr>\n",
       "      <th>133</th>\n",
       "      <td>26</td>\n",
       "      <td>61</td>\n",
       "      <td>Friday</td>\n",
       "      <td>36382420220</td>\n",
       "      <td>1</td>\n",
       "      <td>PHARMACY OTC</td>\n",
       "      <td>1300</td>\n",
       "      <td>11</td>\n",
       "      <td>3</td>\n",
       "    </tr>\n",
       "    <tr>\n",
       "      <th>617</th>\n",
       "      <td>5</td>\n",
       "      <td>285</td>\n",
       "      <td>Friday</td>\n",
       "      <td>38137116146</td>\n",
       "      <td>1</td>\n",
       "      <td>PHARMACY OTC</td>\n",
       "      <td>3524</td>\n",
       "      <td>11</td>\n",
       "      <td>3</td>\n",
       "    </tr>\n",
       "    <tr>\n",
       "      <th>622</th>\n",
       "      <td>5</td>\n",
       "      <td>285</td>\n",
       "      <td>Friday</td>\n",
       "      <td>36461304562</td>\n",
       "      <td>1</td>\n",
       "      <td>PHARMACY OTC</td>\n",
       "      <td>4080</td>\n",
       "      <td>11</td>\n",
       "      <td>3</td>\n",
       "    </tr>\n",
       "    <tr>\n",
       "      <th>626</th>\n",
       "      <td>40</td>\n",
       "      <td>287</td>\n",
       "      <td>Friday</td>\n",
       "      <td>30187137127</td>\n",
       "      <td>1</td>\n",
       "      <td>BEAUTY</td>\n",
       "      <td>4020</td>\n",
       "      <td>11</td>\n",
       "      <td>3</td>\n",
       "    </tr>\n",
       "    <tr>\n",
       "      <th>635</th>\n",
       "      <td>40</td>\n",
       "      <td>287</td>\n",
       "      <td>Friday</td>\n",
       "      <td>31015883086</td>\n",
       "      <td>1</td>\n",
       "      <td>PERSONAL CARE</td>\n",
       "      <td>205</td>\n",
       "      <td>11</td>\n",
       "      <td>3</td>\n",
       "    </tr>\n",
       "  </tbody>\n",
       "</table>\n",
       "</div>"
      ],
      "text/plain": [
       "     TripType  VisitNumber Weekday          Upc  ScanCount  \\\n",
       "133        26           61  Friday  36382420220          1   \n",
       "617         5          285  Friday  38137116146          1   \n",
       "622         5          285  Friday  36461304562          1   \n",
       "626        40          287  Friday  30187137127          1   \n",
       "635        40          287  Friday  31015883086          1   \n",
       "\n",
       "    DepartmentDescription  FinelineNumber  len_upc init_upc  \n",
       "133          PHARMACY OTC            1300       11        3  \n",
       "617          PHARMACY OTC            3524       11        3  \n",
       "622          PHARMACY OTC            4080       11        3  \n",
       "626                BEAUTY            4020       11        3  \n",
       "635         PERSONAL CARE             205       11        3  "
      ]
     },
     "execution_count": 33,
     "metadata": {},
     "output_type": "execute_result"
    }
   ],
   "source": [
    "train_pharm.head()"
   ]
  },
  {
   "cell_type": "code",
   "execution_count": 34,
   "metadata": {
    "collapsed": false
   },
   "outputs": [
    {
     "data": {
      "text/plain": [
       "PHARMACY OTC                   5492\n",
       "PERSONAL CARE                  5049\n",
       "BEAUTY                         2164\n",
       "INFANT CONSUMABLE HARDLINES     535\n",
       "IMPULSE MERCHANDISE             201\n",
       "BEDDING                         135\n",
       "PHARMACY RX                      90\n",
       "PRODUCE                          76\n",
       "GROCERY DRY GOODS                54\n",
       "TOYS                             50\n",
       "FABRICS AND CRAFTS               12\n",
       "PETS AND SUPPLIES                11\n",
       "SPORTING GOODS                    7\n",
       "DAIRY                             5\n",
       "HOUSEHOLD CHEMICALS/SUPP          4\n",
       "AUTOMOTIVE                        3\n",
       "OPTICAL - FRAMES                  2\n",
       "HEALTH AND BEAUTY AIDS            2\n",
       "Name: DepartmentDescription, dtype: int64"
      ]
     },
     "execution_count": 34,
     "metadata": {},
     "output_type": "execute_result"
    }
   ],
   "source": [
    "train_pharm.DepartmentDescription.value_counts()"
   ]
  },
  {
   "cell_type": "code",
   "execution_count": 27,
   "metadata": {
    "collapsed": false
   },
   "outputs": [],
   "source": [
    "train_pharm_produce = train_pharm[train_pharm.DepartmentDescription == 'PRODUCE']"
   ]
  },
  {
   "cell_type": "code",
   "execution_count": 38,
   "metadata": {
    "collapsed": false
   },
   "outputs": [
    {
     "data": {
      "text/html": [
       "<div>\n",
       "<table border=\"1\" class=\"dataframe\">\n",
       "  <thead>\n",
       "    <tr style=\"text-align: right;\">\n",
       "      <th></th>\n",
       "      <th>TripType</th>\n",
       "      <th>VisitNumber</th>\n",
       "      <th>Weekday</th>\n",
       "      <th>Upc</th>\n",
       "      <th>ScanCount</th>\n",
       "      <th>DepartmentDescription</th>\n",
       "      <th>FinelineNumber</th>\n",
       "      <th>len_upc</th>\n",
       "      <th>init_upc</th>\n",
       "    </tr>\n",
       "  </thead>\n",
       "  <tbody>\n",
       "    <tr>\n",
       "      <th>45021</th>\n",
       "      <td>40</td>\n",
       "      <td>13338</td>\n",
       "      <td>Sunday</td>\n",
       "      <td>33383400105</td>\n",
       "      <td>1</td>\n",
       "      <td>PRODUCE</td>\n",
       "      <td>6201</td>\n",
       "      <td>11</td>\n",
       "      <td>3</td>\n",
       "    </tr>\n",
       "    <tr>\n",
       "      <th>52518</th>\n",
       "      <td>40</td>\n",
       "      <td>15163</td>\n",
       "      <td>Sunday</td>\n",
       "      <td>33383600512</td>\n",
       "      <td>1</td>\n",
       "      <td>PRODUCE</td>\n",
       "      <td>4010</td>\n",
       "      <td>11</td>\n",
       "      <td>3</td>\n",
       "    </tr>\n",
       "    <tr>\n",
       "      <th>52672</th>\n",
       "      <td>39</td>\n",
       "      <td>15194</td>\n",
       "      <td>Sunday</td>\n",
       "      <td>33383400105</td>\n",
       "      <td>1</td>\n",
       "      <td>PRODUCE</td>\n",
       "      <td>6201</td>\n",
       "      <td>11</td>\n",
       "      <td>3</td>\n",
       "    </tr>\n",
       "    <tr>\n",
       "      <th>57863</th>\n",
       "      <td>7</td>\n",
       "      <td>16553</td>\n",
       "      <td>Sunday</td>\n",
       "      <td>33383400105</td>\n",
       "      <td>1</td>\n",
       "      <td>PRODUCE</td>\n",
       "      <td>6201</td>\n",
       "      <td>11</td>\n",
       "      <td>3</td>\n",
       "    </tr>\n",
       "    <tr>\n",
       "      <th>64896</th>\n",
       "      <td>37</td>\n",
       "      <td>18232</td>\n",
       "      <td>Sunday</td>\n",
       "      <td>33383400105</td>\n",
       "      <td>1</td>\n",
       "      <td>PRODUCE</td>\n",
       "      <td>6201</td>\n",
       "      <td>11</td>\n",
       "      <td>3</td>\n",
       "    </tr>\n",
       "  </tbody>\n",
       "</table>\n",
       "</div>"
      ],
      "text/plain": [
       "       TripType  VisitNumber Weekday          Upc  ScanCount  \\\n",
       "45021        40        13338  Sunday  33383400105          1   \n",
       "52518        40        15163  Sunday  33383600512          1   \n",
       "52672        39        15194  Sunday  33383400105          1   \n",
       "57863         7        16553  Sunday  33383400105          1   \n",
       "64896        37        18232  Sunday  33383400105          1   \n",
       "\n",
       "      DepartmentDescription  FinelineNumber  len_upc init_upc  \n",
       "45021               PRODUCE            6201       11        3  \n",
       "52518               PRODUCE            4010       11        3  \n",
       "52672               PRODUCE            6201       11        3  \n",
       "57863               PRODUCE            6201       11        3  \n",
       "64896               PRODUCE            6201       11        3  "
      ]
     },
     "execution_count": 38,
     "metadata": {},
     "output_type": "execute_result"
    }
   ],
   "source": [
    "train_pharm_produce.head()"
   ]
  },
  {
   "cell_type": "code",
   "execution_count": 28,
   "metadata": {
    "collapsed": false
   },
   "outputs": [
    {
     "data": {
      "text/plain": [
       "33383400105    69\n",
       "33383600512     4\n",
       "33383600024     3\n",
       "Name: Upc, dtype: int64"
      ]
     },
     "execution_count": 28,
     "metadata": {},
     "output_type": "execute_result"
    }
   ],
   "source": [
    "train_pharm_produce.Upc.value_counts()"
   ]
  },
  {
   "cell_type": "code",
   "execution_count": null,
   "metadata": {
    "collapsed": true
   },
   "outputs": [],
   "source": []
  }
 ],
 "metadata": {
  "kernelspec": {
   "display_name": "Python 2",
   "language": "python",
   "name": "python2"
  },
  "language_info": {
   "codemirror_mode": {
    "name": "ipython",
    "version": 2
   },
   "file_extension": ".py",
   "mimetype": "text/x-python",
   "name": "python",
   "nbconvert_exporter": "python",
   "pygments_lexer": "ipython2",
   "version": "2.7.10"
  }
 },
 "nbformat": 4,
 "nbformat_minor": 0
}
